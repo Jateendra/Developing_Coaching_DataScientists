{
 "cells": [
  {
   "cell_type": "markdown",
   "metadata": {},
   "source": [
    "# XGBoost"
   ]
  },
  {
   "cell_type": "code",
   "execution_count": 1,
   "metadata": {},
   "outputs": [
    {
     "data": {
      "text/html": [
       "<div>\n",
       "<style scoped>\n",
       "    .dataframe tbody tr th:only-of-type {\n",
       "        vertical-align: middle;\n",
       "    }\n",
       "\n",
       "    .dataframe tbody tr th {\n",
       "        vertical-align: top;\n",
       "    }\n",
       "\n",
       "    .dataframe thead th {\n",
       "        text-align: right;\n",
       "    }\n",
       "</style>\n",
       "<table border=\"1\" class=\"dataframe\">\n",
       "  <thead>\n",
       "    <tr style=\"text-align: right;\">\n",
       "      <th></th>\n",
       "      <th>Is Chest Pain Present</th>\n",
       "      <th>Are any arteries blocked</th>\n",
       "      <th>Weight of the person</th>\n",
       "      <th>Is Heart Patient</th>\n",
       "    </tr>\n",
       "  </thead>\n",
       "  <tbody>\n",
       "    <tr>\n",
       "      <th>0</th>\n",
       "      <td>YES</td>\n",
       "      <td>YES</td>\n",
       "      <td>205</td>\n",
       "      <td>YES</td>\n",
       "    </tr>\n",
       "    <tr>\n",
       "      <th>1</th>\n",
       "      <td>NO</td>\n",
       "      <td>YES</td>\n",
       "      <td>180</td>\n",
       "      <td>YES</td>\n",
       "    </tr>\n",
       "    <tr>\n",
       "      <th>2</th>\n",
       "      <td>YES</td>\n",
       "      <td>NO</td>\n",
       "      <td>210</td>\n",
       "      <td>YES</td>\n",
       "    </tr>\n",
       "    <tr>\n",
       "      <th>3</th>\n",
       "      <td>YES</td>\n",
       "      <td>YES</td>\n",
       "      <td>167</td>\n",
       "      <td>YES</td>\n",
       "    </tr>\n",
       "    <tr>\n",
       "      <th>4</th>\n",
       "      <td>NO</td>\n",
       "      <td>YES</td>\n",
       "      <td>156</td>\n",
       "      <td>NO</td>\n",
       "    </tr>\n",
       "    <tr>\n",
       "      <th>5</th>\n",
       "      <td>NO</td>\n",
       "      <td>YES</td>\n",
       "      <td>125</td>\n",
       "      <td>NO</td>\n",
       "    </tr>\n",
       "    <tr>\n",
       "      <th>6</th>\n",
       "      <td>YES</td>\n",
       "      <td>NO</td>\n",
       "      <td>168</td>\n",
       "      <td>NO</td>\n",
       "    </tr>\n",
       "    <tr>\n",
       "      <th>7</th>\n",
       "      <td>YES</td>\n",
       "      <td>YES</td>\n",
       "      <td>172</td>\n",
       "      <td>NO</td>\n",
       "    </tr>\n",
       "  </tbody>\n",
       "</table>\n",
       "</div>"
      ],
      "text/plain": [
       "  Is Chest Pain Present Are any arteries blocked  Weight of the person  \\\n",
       "0                   YES                      YES                   205   \n",
       "1                    NO                      YES                   180   \n",
       "2                   YES                       NO                   210   \n",
       "3                   YES                      YES                   167   \n",
       "4                    NO                      YES                   156   \n",
       "5                    NO                      YES                   125   \n",
       "6                   YES                       NO                   168   \n",
       "7                   YES                      YES                   172   \n",
       "\n",
       "  Is Heart Patient  \n",
       "0              YES  \n",
       "1              YES  \n",
       "2              YES  \n",
       "3              YES  \n",
       "4               NO  \n",
       "5               NO  \n",
       "6               NO  \n",
       "7               NO  "
      ]
     },
     "execution_count": 1,
     "metadata": {},
     "output_type": "execute_result"
    }
   ],
   "source": [
    "import pandas as pd\n",
    "heart_data=pd.read_csv('heart_disease.csv')\n",
    "heart_data"
   ]
  },
  {
   "cell_type": "markdown",
   "metadata": {},
   "source": [
    "# Python Implementation"
   ]
  },
  {
   "cell_type": "code",
   "execution_count": 2,
   "metadata": {},
   "outputs": [
    {
     "name": "stdout",
     "output_type": "stream",
     "text": [
      "Collecting xgboost\n",
      "  Downloading xgboost-1.6.2-py3-none-win_amd64.whl (125.4 MB)\n",
      "Requirement already satisfied: scipy in c:\\users\\jatpradh\\anaconda3\\lib\\site-packages (from xgboost) (1.7.3)\n",
      "Requirement already satisfied: numpy in c:\\users\\jatpradh\\anaconda3\\lib\\site-packages (from xgboost) (1.21.5)\n",
      "Installing collected packages: xgboost\n",
      "Successfully installed xgboost-1.6.2\n"
     ]
    }
   ],
   "source": [
    "!pip3 install --default-timeout=100 xgboost"
   ]
  },
  {
   "cell_type": "code",
   "execution_count": 3,
   "metadata": {},
   "outputs": [],
   "source": [
    "import pandas as pd\n",
    "import numpy as np\n",
    "import xgboost as xgb\n",
    "import pickle\n",
    "from sklearn import datasets\n",
    "from xgboost import XGBClassifier\n",
    "from sklearn.metrics import accuracy_score"
   ]
  },
  {
   "cell_type": "code",
   "execution_count": 4,
   "metadata": {},
   "outputs": [],
   "source": [
    "# reading the features and the labels\n",
    "data= pd.read_csv('pima-indians-diabetes.csv')"
   ]
  },
  {
   "cell_type": "code",
   "execution_count": 5,
   "metadata": {},
   "outputs": [
    {
     "data": {
      "text/html": [
       "<div>\n",
       "<style scoped>\n",
       "    .dataframe tbody tr th:only-of-type {\n",
       "        vertical-align: middle;\n",
       "    }\n",
       "\n",
       "    .dataframe tbody tr th {\n",
       "        vertical-align: top;\n",
       "    }\n",
       "\n",
       "    .dataframe thead th {\n",
       "        text-align: right;\n",
       "    }\n",
       "</style>\n",
       "<table border=\"1\" class=\"dataframe\">\n",
       "  <thead>\n",
       "    <tr style=\"text-align: right;\">\n",
       "      <th></th>\n",
       "      <th>Number of times pregnant</th>\n",
       "      <th>Plasma glucose concentration</th>\n",
       "      <th>Diastolic blood pressure (mm Hg)</th>\n",
       "      <th>Triceps skinfold thickness (mm)</th>\n",
       "      <th>2-Hour serum insulin (mu U/ml)</th>\n",
       "      <th>Body mass index (weight in kg/(height in m)^2)</th>\n",
       "      <th>Diabetes pedigree function</th>\n",
       "      <th>Age</th>\n",
       "      <th>Is Diabetic</th>\n",
       "    </tr>\n",
       "  </thead>\n",
       "  <tbody>\n",
       "    <tr>\n",
       "      <th>0</th>\n",
       "      <td>6</td>\n",
       "      <td>148</td>\n",
       "      <td>72</td>\n",
       "      <td>35</td>\n",
       "      <td>0</td>\n",
       "      <td>33.6</td>\n",
       "      <td>0.627</td>\n",
       "      <td>50</td>\n",
       "      <td>1</td>\n",
       "    </tr>\n",
       "    <tr>\n",
       "      <th>1</th>\n",
       "      <td>1</td>\n",
       "      <td>85</td>\n",
       "      <td>66</td>\n",
       "      <td>29</td>\n",
       "      <td>0</td>\n",
       "      <td>26.6</td>\n",
       "      <td>0.351</td>\n",
       "      <td>31</td>\n",
       "      <td>0</td>\n",
       "    </tr>\n",
       "    <tr>\n",
       "      <th>2</th>\n",
       "      <td>8</td>\n",
       "      <td>183</td>\n",
       "      <td>64</td>\n",
       "      <td>0</td>\n",
       "      <td>0</td>\n",
       "      <td>23.3</td>\n",
       "      <td>0.672</td>\n",
       "      <td>32</td>\n",
       "      <td>1</td>\n",
       "    </tr>\n",
       "    <tr>\n",
       "      <th>3</th>\n",
       "      <td>1</td>\n",
       "      <td>89</td>\n",
       "      <td>66</td>\n",
       "      <td>23</td>\n",
       "      <td>94</td>\n",
       "      <td>28.1</td>\n",
       "      <td>0.167</td>\n",
       "      <td>21</td>\n",
       "      <td>0</td>\n",
       "    </tr>\n",
       "    <tr>\n",
       "      <th>4</th>\n",
       "      <td>0</td>\n",
       "      <td>137</td>\n",
       "      <td>40</td>\n",
       "      <td>35</td>\n",
       "      <td>168</td>\n",
       "      <td>43.1</td>\n",
       "      <td>2.288</td>\n",
       "      <td>33</td>\n",
       "      <td>1</td>\n",
       "    </tr>\n",
       "  </tbody>\n",
       "</table>\n",
       "</div>"
      ],
      "text/plain": [
       "   Number of times pregnant  Plasma glucose concentration  \\\n",
       "0                         6                           148   \n",
       "1                         1                            85   \n",
       "2                         8                           183   \n",
       "3                         1                            89   \n",
       "4                         0                           137   \n",
       "\n",
       "   Diastolic blood pressure (mm Hg)  Triceps skinfold thickness (mm)  \\\n",
       "0                                72                               35   \n",
       "1                                66                               29   \n",
       "2                                64                                0   \n",
       "3                                66                               23   \n",
       "4                                40                               35   \n",
       "\n",
       "   2-Hour serum insulin (mu U/ml)  \\\n",
       "0                               0   \n",
       "1                               0   \n",
       "2                               0   \n",
       "3                              94   \n",
       "4                             168   \n",
       "\n",
       "   Body mass index (weight in kg/(height in m)^2)  Diabetes pedigree function  \\\n",
       "0                                            33.6                       0.627   \n",
       "1                                            26.6                       0.351   \n",
       "2                                            23.3                       0.672   \n",
       "3                                            28.1                       0.167   \n",
       "4                                            43.1                       2.288   \n",
       "\n",
       "   Age  Is Diabetic  \n",
       "0   50            1  \n",
       "1   31            0  \n",
       "2   32            1  \n",
       "3   21            0  \n",
       "4   33            1  "
      ]
     },
     "execution_count": 5,
     "metadata": {},
     "output_type": "execute_result"
    }
   ],
   "source": [
    "data.head()"
   ]
  },
  {
   "cell_type": "code",
   "execution_count": 6,
   "metadata": {},
   "outputs": [
    {
     "data": {
      "text/plain": [
       "Index(['Number of times pregnant', 'Plasma glucose concentration',\n",
       "       'Diastolic blood pressure (mm Hg)', 'Triceps skinfold thickness (mm)',\n",
       "       '2-Hour serum insulin (mu U/ml)',\n",
       "       'Body mass index (weight in kg/(height in m)^2)',\n",
       "       'Diabetes pedigree function', 'Age', 'Is Diabetic'],\n",
       "      dtype='object')"
      ]
     },
     "execution_count": 6,
     "metadata": {},
     "output_type": "execute_result"
    }
   ],
   "source": [
    "data.columns"
   ]
  },
  {
   "cell_type": "code",
   "execution_count": 7,
   "metadata": {},
   "outputs": [],
   "source": [
    "cols = ['Plasma glucose concentration',\n",
    "       'Diastolic blood pressure (mm Hg)', 'Triceps skinfold thickness (mm)',\n",
    "       '2-Hour serum insulin (mu U/ml)',\n",
    "       'Body mass index (weight in kg/(height in m)^2)',\n",
    "       'Diabetes pedigree function', 'Age']"
   ]
  },
  {
   "cell_type": "code",
   "execution_count": 8,
   "metadata": {},
   "outputs": [],
   "source": [
    "# as mentioned in the data description, the missing values have been replaced by zeroes. So, we are replacing zeroes with nan\n",
    "for col in cols:\n",
    "    data[col]=data[col].replace(0, np.nan)"
   ]
  },
  {
   "cell_type": "code",
   "execution_count": 9,
   "metadata": {},
   "outputs": [
    {
     "data": {
      "text/plain": [
       "Number of times pregnant                            0\n",
       "Plasma glucose concentration                        5\n",
       "Diastolic blood pressure (mm Hg)                   35\n",
       "Triceps skinfold thickness (mm)                   227\n",
       "2-Hour serum insulin (mu U/ml)                    374\n",
       "Body mass index (weight in kg/(height in m)^2)     11\n",
       "Diabetes pedigree function                          0\n",
       "Age                                                 0\n",
       "Is Diabetic                                         0\n",
       "dtype: int64"
      ]
     },
     "execution_count": 9,
     "metadata": {},
     "output_type": "execute_result"
    }
   ],
   "source": [
    "# checking for missing values\n",
    "data.isna().sum()"
   ]
  },
  {
   "cell_type": "code",
   "execution_count": 10,
   "metadata": {},
   "outputs": [],
   "source": [
    "# imputing the missing values\n",
    "data['Plasma glucose concentration']=data['Plasma glucose concentration'].fillna(data['Plasma glucose concentration'].mode()[0])\n",
    "data['Diastolic blood pressure (mm Hg)']=data['Diastolic blood pressure (mm Hg)'].fillna(data['Diastolic blood pressure (mm Hg)'].mode()[0])\n",
    "data['Triceps skinfold thickness (mm)']=data['Triceps skinfold thickness (mm)'].fillna(data['Triceps skinfold thickness (mm)'].mean())\n",
    "data['2-Hour serum insulin (mu U/ml)']=data['2-Hour serum insulin (mu U/ml)'].fillna(data['2-Hour serum insulin (mu U/ml)'].mean())\n",
    "data['Body mass index (weight in kg/(height in m)^2)']=data['Body mass index (weight in kg/(height in m)^2)'].fillna(data['Body mass index (weight in kg/(height in m)^2)'].mean())\n"
   ]
  },
  {
   "cell_type": "code",
   "execution_count": 11,
   "metadata": {},
   "outputs": [
    {
     "data": {
      "text/plain": [
       "Number of times pregnant                          0\n",
       "Plasma glucose concentration                      0\n",
       "Diastolic blood pressure (mm Hg)                  0\n",
       "Triceps skinfold thickness (mm)                   0\n",
       "2-Hour serum insulin (mu U/ml)                    0\n",
       "Body mass index (weight in kg/(height in m)^2)    0\n",
       "Diabetes pedigree function                        0\n",
       "Age                                               0\n",
       "Is Diabetic                                       0\n",
       "dtype: int64"
      ]
     },
     "execution_count": 11,
     "metadata": {},
     "output_type": "execute_result"
    }
   ],
   "source": [
    "data.isna().sum()"
   ]
  },
  {
   "cell_type": "code",
   "execution_count": 12,
   "metadata": {},
   "outputs": [],
   "source": [
    "#Separating the feature and the Label columns \n",
    "x=data.drop(labels='Is Diabetic', axis=1)\n",
    "y= data['Is Diabetic']"
   ]
  },
  {
   "cell_type": "markdown",
   "metadata": {},
   "source": [
    "x.head(2)"
   ]
  },
  {
   "cell_type": "code",
   "execution_count": 13,
   "metadata": {},
   "outputs": [],
   "source": [
    "# as the data points differs a lot we will scale them\n",
    "from sklearn.preprocessing import StandardScaler\n",
    "scaler = StandardScaler()\n",
    "scaled_data = scaler.fit_transform(x)\n"
   ]
  },
  {
   "cell_type": "code",
   "execution_count": 14,
   "metadata": {},
   "outputs": [
    {
     "data": {
      "text/plain": [
       "array([[ 0.63994726,  0.86840303, -0.02442979, ...,  0.16629174,\n",
       "         0.46849198,  1.4259954 ],\n",
       "       [-0.84488505, -1.19914997, -0.52034382, ..., -0.85253118,\n",
       "        -0.36506078, -0.19067191],\n",
       "       [ 1.23388019,  2.01704359, -0.68564849, ..., -1.33283341,\n",
       "         0.60439732, -0.10558415],\n",
       "       ...,\n",
       "       [ 0.3429808 , -0.01769112, -0.02442979, ..., -0.91074963,\n",
       "        -0.68519336, -0.27575966],\n",
       "       [-0.84488505,  0.14640039, -1.01625784, ..., -0.34311972,\n",
       "        -0.37110101,  1.17073215],\n",
       "       [-0.84488505, -0.93660356, -0.18973447, ..., -0.29945588,\n",
       "        -0.47378505, -0.87137393]])"
      ]
     },
     "execution_count": 14,
     "metadata": {},
     "output_type": "execute_result"
    }
   ],
   "source": [
    "scaled_data"
   ]
  },
  {
   "cell_type": "code",
   "execution_count": 15,
   "metadata": {},
   "outputs": [],
   "source": [
    "from sklearn.model_selection import train_test_split\n",
    "train_x,test_x,train_y,test_y = train_test_split(scaled_data,y,test_size=0.3,random_state=42)"
   ]
  },
  {
   "cell_type": "code",
   "execution_count": 16,
   "metadata": {},
   "outputs": [
    {
     "data": {
      "text/plain": [
       "XGBClassifier(base_score=0.5, booster='gbtree', callbacks=None,\n",
       "              colsample_bylevel=1, colsample_bynode=1, colsample_bytree=1,\n",
       "              early_stopping_rounds=None, enable_categorical=False,\n",
       "              eval_metric=None, gamma=0, gpu_id=-1, grow_policy='depthwise',\n",
       "              importance_type=None, interaction_constraints='',\n",
       "              learning_rate=0.300000012, max_bin=256, max_cat_to_onehot=4,\n",
       "              max_delta_step=0, max_depth=6, max_leaves=0, min_child_weight=1,\n",
       "              missing=nan, monotone_constraints='()', n_estimators=100,\n",
       "              n_jobs=0, num_parallel_tree=1, predictor='auto', random_state=0,\n",
       "              reg_alpha=0, reg_lambda=1, ...)"
      ]
     },
     "execution_count": 16,
     "metadata": {},
     "output_type": "execute_result"
    }
   ],
   "source": [
    "model = XGBClassifier(objective='binary:logistic')\n",
    "model.fit(train_x,train_y)"
   ]
  },
  {
   "cell_type": "code",
   "execution_count": 17,
   "metadata": {},
   "outputs": [
    {
     "data": {
      "text/plain": [
       "array([1])"
      ]
     },
     "execution_count": 17,
     "metadata": {},
     "output_type": "execute_result"
    }
   ],
   "source": [
    "# First a single record prediction\n",
    "y_pred = model.predict(np.asarray(scaled_data[0]).reshape(1,8))\n",
    "y_pred"
   ]
  },
  {
   "cell_type": "code",
   "execution_count": 18,
   "metadata": {},
   "outputs": [
    {
     "data": {
      "text/plain": [
       "1.0"
      ]
     },
     "execution_count": 18,
     "metadata": {},
     "output_type": "execute_result"
    }
   ],
   "source": [
    "y_pred = model.predict(train_x)\n",
    "predictions = [round(value) for value in y_pred]\n",
    "accuracy = accuracy_score(train_y,predictions)\n",
    "accuracy"
   ]
  },
  {
   "cell_type": "code",
   "execution_count": 19,
   "metadata": {},
   "outputs": [
    {
     "data": {
      "text/plain": [
       "array([0, 0, 1, 0, 0, 0, 0, 1, 1, 0, 0, 1, 0, 0, 0, 0, 0, 0, 0, 1, 0, 1,\n",
       "       0, 0, 0, 0, 1, 0, 0, 0, 1, 0, 0, 0, 0, 0, 0, 0, 0, 0, 0, 1, 1, 0,\n",
       "       0, 0, 1, 0, 0, 0, 1, 1, 1, 0, 0, 1, 1, 0, 0, 0, 0, 1, 0, 1, 0, 0,\n",
       "       1, 1, 0, 0, 1, 1, 0, 0, 0, 0, 0, 0, 1, 0, 1, 1, 0, 0, 0, 1, 0, 0,\n",
       "       0, 1, 1, 1, 0, 1, 0, 0, 0, 0, 0, 0, 0, 0, 1, 1, 0, 1, 1, 0, 0, 1,\n",
       "       0, 0, 1, 1, 1, 0, 0, 0, 0, 0, 1, 0, 1, 0, 0, 0, 0, 0, 0, 0, 1, 1,\n",
       "       0, 0, 0, 0, 0, 0, 0, 1, 0, 1, 1, 1, 0, 0, 0, 0, 0, 1, 1, 1, 1, 0,\n",
       "       0, 1, 0, 0, 1, 1, 0, 1, 1, 0, 1, 0, 0, 0, 1, 0, 1, 0, 1, 0, 0, 0,\n",
       "       1, 1, 0, 1, 0, 0, 1, 0, 1, 0, 0, 1, 0, 0, 1, 0, 0, 1, 0, 1, 1, 0,\n",
       "       0, 0, 0, 1, 1, 0, 1, 0, 0, 1, 0, 1, 0, 1, 0, 0, 0, 0, 1, 1, 1, 1,\n",
       "       1, 0, 0, 0, 0, 1, 1, 0, 0, 0, 1, 0, 1, 0, 0, 0, 0, 0, 1, 1, 0, 1,\n",
       "       1, 1, 1, 1, 0, 0, 0, 0, 0, 1, 1, 0, 1, 1, 0, 0, 1, 0, 1, 0, 0, 0,\n",
       "       0, 0, 0, 1, 0, 1, 0, 0, 0, 1, 0, 1, 1, 1, 0, 0, 0, 0, 0, 0, 0, 0,\n",
       "       0, 0, 0, 1, 0, 0, 0, 1, 0, 1, 0, 0, 1, 0, 1, 0, 0, 0, 1, 0, 0, 1,\n",
       "       0, 0, 0, 0, 1, 0, 0, 0, 0, 0, 1, 0, 0, 0, 0, 0, 0, 0, 0, 1, 1, 0,\n",
       "       0, 0, 1, 0, 0, 1, 0, 1, 0, 1, 1, 0, 0, 0, 0, 0, 1, 1, 1, 1, 0, 0,\n",
       "       0, 1, 1, 1, 1, 0, 1, 0, 0, 0, 0, 0, 0, 0, 0, 0, 0, 0, 0, 1, 0, 0,\n",
       "       0, 0, 0, 0, 0, 0, 0, 1, 0, 0, 0, 0, 0, 1, 0, 0, 0, 1, 0, 1, 1, 0,\n",
       "       0, 1, 1, 0, 0, 1, 0, 0, 0, 0, 0, 0, 1, 1, 0, 1, 0, 0, 1, 1, 0, 1,\n",
       "       1, 0, 0, 1, 1, 0, 0, 0, 0, 0, 1, 1, 0, 1, 0, 0, 1, 1, 1, 0, 0, 0,\n",
       "       1, 1, 0, 0, 1, 1, 0, 0, 0, 0, 1, 1, 0, 1, 0, 0, 0, 1, 0, 1, 0, 0,\n",
       "       0, 0, 1, 0, 0, 0, 0, 0, 1, 0, 0, 0, 0, 1, 0, 1, 0, 1, 0, 0, 0, 1,\n",
       "       0, 0, 1, 0, 0, 1, 1, 1, 1, 0, 1, 0, 0, 0, 1, 0, 0, 1, 1, 0, 0, 1,\n",
       "       0, 0, 0, 0, 0, 1, 0, 0, 0, 0, 0, 1, 1, 1, 1, 1, 0, 0, 1, 0, 1, 0,\n",
       "       0, 1, 0, 0, 0, 0, 1, 1, 0])"
      ]
     },
     "execution_count": 19,
     "metadata": {},
     "output_type": "execute_result"
    }
   ],
   "source": [
    "y_pred"
   ]
  },
  {
   "cell_type": "code",
   "execution_count": 20,
   "metadata": {},
   "outputs": [
    {
     "data": {
      "text/plain": [
       "0.7272727272727273"
      ]
     },
     "execution_count": 20,
     "metadata": {},
     "output_type": "execute_result"
    }
   ],
   "source": [
    "# Checking initial test accuracy\n",
    "y_pred = model.predict(test_x)\n",
    "predictions = [round(value) for  value in y_pred]\n",
    "accuracy = accuracy_score(test_y,predictions)\n",
    "accuracy"
   ]
  },
  {
   "cell_type": "code",
   "execution_count": 21,
   "metadata": {},
   "outputs": [
    {
     "data": {
      "text/plain": [
       "array([ 0.63994726, -0.77251205, -1.18156252,  0.43784695,  0.40547846,\n",
       "        0.22451019, -0.1264714 ,  0.83038113])"
      ]
     },
     "execution_count": 21,
     "metadata": {},
     "output_type": "execute_result"
    }
   ],
   "source": [
    "test_x[0]"
   ]
  },
  {
   "cell_type": "code",
   "execution_count": 22,
   "metadata": {},
   "outputs": [],
   "source": [
    "# Do hyperparameter tuning to increase the accuracy of the model."
   ]
  },
  {
   "cell_type": "code",
   "execution_count": 23,
   "metadata": {},
   "outputs": [],
   "source": [
    "from sklearn.model_selection import GridSearchCV"
   ]
  },
  {
   "cell_type": "code",
   "execution_count": 24,
   "metadata": {},
   "outputs": [],
   "source": [
    "param_grid = {\n",
    "    'learning_rate':[1,0.5,0.1,0.01,0.001],\n",
    "    'max_depth':[3,5,10,20],\n",
    "    'n_estimators':[10,50,100,200]\n",
    "}"
   ]
  },
  {
   "cell_type": "code",
   "execution_count": 25,
   "metadata": {},
   "outputs": [],
   "source": [
    "grid = GridSearchCV(XGBClassifier(objective='binary:logistic'),param_grid,verbose=3)"
   ]
  },
  {
   "cell_type": "code",
   "execution_count": 26,
   "metadata": {},
   "outputs": [
    {
     "name": "stdout",
     "output_type": "stream",
     "text": [
      "Fitting 5 folds for each of 80 candidates, totalling 400 fits\n",
      "[CV 1/5] END learning_rate=1, max_depth=3, n_estimators=10;, score=0.824 total time=   0.0s\n",
      "[CV 2/5] END learning_rate=1, max_depth=3, n_estimators=10;, score=0.741 total time=   0.0s\n",
      "[CV 3/5] END learning_rate=1, max_depth=3, n_estimators=10;, score=0.757 total time=   0.0s\n",
      "[CV 4/5] END learning_rate=1, max_depth=3, n_estimators=10;, score=0.738 total time=   0.0s\n",
      "[CV 5/5] END learning_rate=1, max_depth=3, n_estimators=10;, score=0.738 total time=   0.0s\n",
      "[CV 1/5] END learning_rate=1, max_depth=3, n_estimators=50;, score=0.815 total time=   0.0s\n",
      "[CV 2/5] END learning_rate=1, max_depth=3, n_estimators=50;, score=0.759 total time=   0.0s\n",
      "[CV 3/5] END learning_rate=1, max_depth=3, n_estimators=50;, score=0.738 total time=   0.0s\n",
      "[CV 4/5] END learning_rate=1, max_depth=3, n_estimators=50;, score=0.729 total time=   0.0s\n",
      "[CV 5/5] END learning_rate=1, max_depth=3, n_estimators=50;, score=0.729 total time=   0.0s\n",
      "[CV 1/5] END learning_rate=1, max_depth=3, n_estimators=100;, score=0.806 total time=   0.0s\n",
      "[CV 2/5] END learning_rate=1, max_depth=3, n_estimators=100;, score=0.750 total time=   0.0s\n",
      "[CV 3/5] END learning_rate=1, max_depth=3, n_estimators=100;, score=0.720 total time=   0.0s\n",
      "[CV 4/5] END learning_rate=1, max_depth=3, n_estimators=100;, score=0.710 total time=   0.0s\n",
      "[CV 5/5] END learning_rate=1, max_depth=3, n_estimators=100;, score=0.748 total time=   0.0s\n",
      "[CV 1/5] END learning_rate=1, max_depth=3, n_estimators=200;, score=0.796 total time=   0.2s\n",
      "[CV 2/5] END learning_rate=1, max_depth=3, n_estimators=200;, score=0.722 total time=   0.2s\n",
      "[CV 3/5] END learning_rate=1, max_depth=3, n_estimators=200;, score=0.738 total time=   0.2s\n",
      "[CV 4/5] END learning_rate=1, max_depth=3, n_estimators=200;, score=0.710 total time=   0.2s\n",
      "[CV 5/5] END learning_rate=1, max_depth=3, n_estimators=200;, score=0.729 total time=   0.2s\n",
      "[CV 1/5] END learning_rate=1, max_depth=5, n_estimators=10;, score=0.824 total time=   0.0s\n",
      "[CV 2/5] END learning_rate=1, max_depth=5, n_estimators=10;, score=0.704 total time=   0.0s\n",
      "[CV 3/5] END learning_rate=1, max_depth=5, n_estimators=10;, score=0.738 total time=   0.0s\n",
      "[CV 4/5] END learning_rate=1, max_depth=5, n_estimators=10;, score=0.729 total time=   0.0s\n",
      "[CV 5/5] END learning_rate=1, max_depth=5, n_estimators=10;, score=0.776 total time=   0.0s\n",
      "[CV 1/5] END learning_rate=1, max_depth=5, n_estimators=50;, score=0.787 total time=   0.0s\n",
      "[CV 2/5] END learning_rate=1, max_depth=5, n_estimators=50;, score=0.713 total time=   0.0s\n",
      "[CV 3/5] END learning_rate=1, max_depth=5, n_estimators=50;, score=0.738 total time=   0.0s\n",
      "[CV 4/5] END learning_rate=1, max_depth=5, n_estimators=50;, score=0.720 total time=   0.0s\n",
      "[CV 5/5] END learning_rate=1, max_depth=5, n_estimators=50;, score=0.757 total time=   0.0s\n",
      "[CV 1/5] END learning_rate=1, max_depth=5, n_estimators=100;, score=0.769 total time=   0.1s\n",
      "[CV 2/5] END learning_rate=1, max_depth=5, n_estimators=100;, score=0.694 total time=   0.1s\n",
      "[CV 3/5] END learning_rate=1, max_depth=5, n_estimators=100;, score=0.738 total time=   0.1s\n",
      "[CV 4/5] END learning_rate=1, max_depth=5, n_estimators=100;, score=0.720 total time=   0.1s\n",
      "[CV 5/5] END learning_rate=1, max_depth=5, n_estimators=100;, score=0.757 total time=   0.1s\n",
      "[CV 1/5] END learning_rate=1, max_depth=5, n_estimators=200;, score=0.769 total time=   0.2s\n",
      "[CV 2/5] END learning_rate=1, max_depth=5, n_estimators=200;, score=0.704 total time=   0.2s\n",
      "[CV 3/5] END learning_rate=1, max_depth=5, n_estimators=200;, score=0.738 total time=   0.2s\n",
      "[CV 4/5] END learning_rate=1, max_depth=5, n_estimators=200;, score=0.729 total time=   0.2s\n",
      "[CV 5/5] END learning_rate=1, max_depth=5, n_estimators=200;, score=0.757 total time=   0.2s\n",
      "[CV 1/5] END learning_rate=1, max_depth=10, n_estimators=10;, score=0.787 total time=   0.0s\n",
      "[CV 2/5] END learning_rate=1, max_depth=10, n_estimators=10;, score=0.704 total time=   0.0s\n",
      "[CV 3/5] END learning_rate=1, max_depth=10, n_estimators=10;, score=0.757 total time=   0.0s\n",
      "[CV 4/5] END learning_rate=1, max_depth=10, n_estimators=10;, score=0.710 total time=   0.0s\n",
      "[CV 5/5] END learning_rate=1, max_depth=10, n_estimators=10;, score=0.738 total time=   0.0s\n",
      "[CV 1/5] END learning_rate=1, max_depth=10, n_estimators=50;, score=0.778 total time=   0.0s\n",
      "[CV 2/5] END learning_rate=1, max_depth=10, n_estimators=50;, score=0.694 total time=   0.0s\n",
      "[CV 3/5] END learning_rate=1, max_depth=10, n_estimators=50;, score=0.785 total time=   0.0s\n",
      "[CV 4/5] END learning_rate=1, max_depth=10, n_estimators=50;, score=0.720 total time=   0.0s\n",
      "[CV 5/5] END learning_rate=1, max_depth=10, n_estimators=50;, score=0.729 total time=   0.0s\n",
      "[CV 1/5] END learning_rate=1, max_depth=10, n_estimators=100;, score=0.787 total time=   0.1s\n",
      "[CV 2/5] END learning_rate=1, max_depth=10, n_estimators=100;, score=0.704 total time=   0.0s\n",
      "[CV 3/5] END learning_rate=1, max_depth=10, n_estimators=100;, score=0.776 total time=   0.1s\n",
      "[CV 4/5] END learning_rate=1, max_depth=10, n_estimators=100;, score=0.701 total time=   0.0s\n",
      "[CV 5/5] END learning_rate=1, max_depth=10, n_estimators=100;, score=0.729 total time=   0.1s\n",
      "[CV 1/5] END learning_rate=1, max_depth=10, n_estimators=200;, score=0.796 total time=   0.2s\n",
      "[CV 2/5] END learning_rate=1, max_depth=10, n_estimators=200;, score=0.713 total time=   0.2s\n",
      "[CV 3/5] END learning_rate=1, max_depth=10, n_estimators=200;, score=0.766 total time=   0.3s\n",
      "[CV 4/5] END learning_rate=1, max_depth=10, n_estimators=200;, score=0.701 total time=   0.2s\n",
      "[CV 5/5] END learning_rate=1, max_depth=10, n_estimators=200;, score=0.729 total time=   0.2s\n",
      "[CV 1/5] END learning_rate=1, max_depth=20, n_estimators=10;, score=0.750 total time=   0.0s\n",
      "[CV 2/5] END learning_rate=1, max_depth=20, n_estimators=10;, score=0.713 total time=   0.0s\n",
      "[CV 3/5] END learning_rate=1, max_depth=20, n_estimators=10;, score=0.785 total time=   0.0s\n",
      "[CV 4/5] END learning_rate=1, max_depth=20, n_estimators=10;, score=0.701 total time=   0.0s\n",
      "[CV 5/5] END learning_rate=1, max_depth=20, n_estimators=10;, score=0.701 total time=   0.0s\n",
      "[CV 1/5] END learning_rate=1, max_depth=20, n_estimators=50;, score=0.778 total time=   0.0s\n",
      "[CV 2/5] END learning_rate=1, max_depth=20, n_estimators=50;, score=0.657 total time=   0.0s\n",
      "[CV 3/5] END learning_rate=1, max_depth=20, n_estimators=50;, score=0.757 total time=   0.0s\n",
      "[CV 4/5] END learning_rate=1, max_depth=20, n_estimators=50;, score=0.720 total time=   0.0s\n",
      "[CV 5/5] END learning_rate=1, max_depth=20, n_estimators=50;, score=0.720 total time=   0.0s\n",
      "[CV 1/5] END learning_rate=1, max_depth=20, n_estimators=100;, score=0.778 total time=   0.1s\n",
      "[CV 2/5] END learning_rate=1, max_depth=20, n_estimators=100;, score=0.667 total time=   0.1s\n",
      "[CV 3/5] END learning_rate=1, max_depth=20, n_estimators=100;, score=0.766 total time=   0.1s\n",
      "[CV 4/5] END learning_rate=1, max_depth=20, n_estimators=100;, score=0.720 total time=   0.1s\n",
      "[CV 5/5] END learning_rate=1, max_depth=20, n_estimators=100;, score=0.738 total time=   0.1s\n",
      "[CV 1/5] END learning_rate=1, max_depth=20, n_estimators=200;, score=0.796 total time=   0.2s\n",
      "[CV 2/5] END learning_rate=1, max_depth=20, n_estimators=200;, score=0.694 total time=   0.2s\n",
      "[CV 3/5] END learning_rate=1, max_depth=20, n_estimators=200;, score=0.757 total time=   0.2s\n",
      "[CV 4/5] END learning_rate=1, max_depth=20, n_estimators=200;, score=0.720 total time=   0.2s\n",
      "[CV 5/5] END learning_rate=1, max_depth=20, n_estimators=200;, score=0.738 total time=   0.2s\n",
      "[CV 1/5] END learning_rate=0.5, max_depth=3, n_estimators=10;, score=0.806 total time=   0.0s\n",
      "[CV 2/5] END learning_rate=0.5, max_depth=3, n_estimators=10;, score=0.741 total time=   0.0s\n",
      "[CV 3/5] END learning_rate=0.5, max_depth=3, n_estimators=10;, score=0.785 total time=   0.0s\n",
      "[CV 4/5] END learning_rate=0.5, max_depth=3, n_estimators=10;, score=0.701 total time=   0.0s\n",
      "[CV 5/5] END learning_rate=0.5, max_depth=3, n_estimators=10;, score=0.757 total time=   0.0s\n",
      "[CV 1/5] END learning_rate=0.5, max_depth=3, n_estimators=50;, score=0.759 total time=   0.0s\n",
      "[CV 2/5] END learning_rate=0.5, max_depth=3, n_estimators=50;, score=0.731 total time=   0.0s\n",
      "[CV 3/5] END learning_rate=0.5, max_depth=3, n_estimators=50;, score=0.766 total time=   0.0s\n"
     ]
    },
    {
     "name": "stdout",
     "output_type": "stream",
     "text": [
      "[CV 4/5] END learning_rate=0.5, max_depth=3, n_estimators=50;, score=0.701 total time=   0.0s\n",
      "[CV 5/5] END learning_rate=0.5, max_depth=3, n_estimators=50;, score=0.766 total time=   0.0s\n",
      "[CV 1/5] END learning_rate=0.5, max_depth=3, n_estimators=100;, score=0.750 total time=   0.1s\n",
      "[CV 2/5] END learning_rate=0.5, max_depth=3, n_estimators=100;, score=0.731 total time=   0.1s\n",
      "[CV 3/5] END learning_rate=0.5, max_depth=3, n_estimators=100;, score=0.785 total time=   0.1s\n",
      "[CV 4/5] END learning_rate=0.5, max_depth=3, n_estimators=100;, score=0.720 total time=   0.1s\n",
      "[CV 5/5] END learning_rate=0.5, max_depth=3, n_estimators=100;, score=0.738 total time=   0.1s\n",
      "[CV 1/5] END learning_rate=0.5, max_depth=3, n_estimators=200;, score=0.759 total time=   0.2s\n",
      "[CV 2/5] END learning_rate=0.5, max_depth=3, n_estimators=200;, score=0.759 total time=   0.2s\n",
      "[CV 3/5] END learning_rate=0.5, max_depth=3, n_estimators=200;, score=0.776 total time=   0.2s\n",
      "[CV 4/5] END learning_rate=0.5, max_depth=3, n_estimators=200;, score=0.720 total time=   0.2s\n",
      "[CV 5/5] END learning_rate=0.5, max_depth=3, n_estimators=200;, score=0.748 total time=   0.2s\n",
      "[CV 1/5] END learning_rate=0.5, max_depth=5, n_estimators=10;, score=0.824 total time=   0.0s\n",
      "[CV 2/5] END learning_rate=0.5, max_depth=5, n_estimators=10;, score=0.731 total time=   0.0s\n",
      "[CV 3/5] END learning_rate=0.5, max_depth=5, n_estimators=10;, score=0.813 total time=   0.0s\n",
      "[CV 4/5] END learning_rate=0.5, max_depth=5, n_estimators=10;, score=0.701 total time=   0.0s\n",
      "[CV 5/5] END learning_rate=0.5, max_depth=5, n_estimators=10;, score=0.748 total time=   0.0s\n",
      "[CV 1/5] END learning_rate=0.5, max_depth=5, n_estimators=50;, score=0.769 total time=   0.0s\n",
      "[CV 2/5] END learning_rate=0.5, max_depth=5, n_estimators=50;, score=0.769 total time=   0.0s\n",
      "[CV 3/5] END learning_rate=0.5, max_depth=5, n_estimators=50;, score=0.776 total time=   0.0s\n",
      "[CV 4/5] END learning_rate=0.5, max_depth=5, n_estimators=50;, score=0.701 total time=   0.0s\n",
      "[CV 5/5] END learning_rate=0.5, max_depth=5, n_estimators=50;, score=0.701 total time=   0.0s\n",
      "[CV 1/5] END learning_rate=0.5, max_depth=5, n_estimators=100;, score=0.778 total time=   0.1s\n",
      "[CV 2/5] END learning_rate=0.5, max_depth=5, n_estimators=100;, score=0.750 total time=   0.1s\n",
      "[CV 3/5] END learning_rate=0.5, max_depth=5, n_estimators=100;, score=0.757 total time=   0.1s\n",
      "[CV 4/5] END learning_rate=0.5, max_depth=5, n_estimators=100;, score=0.692 total time=   0.1s\n",
      "[CV 5/5] END learning_rate=0.5, max_depth=5, n_estimators=100;, score=0.720 total time=   0.1s\n",
      "[CV 1/5] END learning_rate=0.5, max_depth=5, n_estimators=200;, score=0.787 total time=   0.2s\n",
      "[CV 2/5] END learning_rate=0.5, max_depth=5, n_estimators=200;, score=0.731 total time=   0.2s\n",
      "[CV 3/5] END learning_rate=0.5, max_depth=5, n_estimators=200;, score=0.766 total time=   0.2s\n",
      "[CV 4/5] END learning_rate=0.5, max_depth=5, n_estimators=200;, score=0.701 total time=   0.2s\n",
      "[CV 5/5] END learning_rate=0.5, max_depth=5, n_estimators=200;, score=0.748 total time=   0.3s\n",
      "[CV 1/5] END learning_rate=0.5, max_depth=10, n_estimators=10;, score=0.750 total time=   0.0s\n",
      "[CV 2/5] END learning_rate=0.5, max_depth=10, n_estimators=10;, score=0.769 total time=   0.0s\n",
      "[CV 3/5] END learning_rate=0.5, max_depth=10, n_estimators=10;, score=0.776 total time=   0.0s\n",
      "[CV 4/5] END learning_rate=0.5, max_depth=10, n_estimators=10;, score=0.701 total time=   0.0s\n",
      "[CV 5/5] END learning_rate=0.5, max_depth=10, n_estimators=10;, score=0.804 total time=   0.0s\n",
      "[CV 1/5] END learning_rate=0.5, max_depth=10, n_estimators=50;, score=0.759 total time=   0.0s\n",
      "[CV 2/5] END learning_rate=0.5, max_depth=10, n_estimators=50;, score=0.769 total time=   0.0s\n",
      "[CV 3/5] END learning_rate=0.5, max_depth=10, n_estimators=50;, score=0.757 total time=   0.0s\n",
      "[CV 4/5] END learning_rate=0.5, max_depth=10, n_estimators=50;, score=0.729 total time=   0.0s\n",
      "[CV 5/5] END learning_rate=0.5, max_depth=10, n_estimators=50;, score=0.776 total time=   0.0s\n",
      "[CV 1/5] END learning_rate=0.5, max_depth=10, n_estimators=100;, score=0.759 total time=   0.1s\n",
      "[CV 2/5] END learning_rate=0.5, max_depth=10, n_estimators=100;, score=0.741 total time=   0.1s\n",
      "[CV 3/5] END learning_rate=0.5, max_depth=10, n_estimators=100;, score=0.757 total time=   0.1s\n",
      "[CV 4/5] END learning_rate=0.5, max_depth=10, n_estimators=100;, score=0.720 total time=   0.1s\n",
      "[CV 5/5] END learning_rate=0.5, max_depth=10, n_estimators=100;, score=0.748 total time=   0.1s\n",
      "[CV 1/5] END learning_rate=0.5, max_depth=10, n_estimators=200;, score=0.769 total time=   0.2s\n",
      "[CV 2/5] END learning_rate=0.5, max_depth=10, n_estimators=200;, score=0.750 total time=   0.2s\n",
      "[CV 3/5] END learning_rate=0.5, max_depth=10, n_estimators=200;, score=0.766 total time=   0.2s\n",
      "[CV 4/5] END learning_rate=0.5, max_depth=10, n_estimators=200;, score=0.729 total time=   0.2s\n",
      "[CV 5/5] END learning_rate=0.5, max_depth=10, n_estimators=200;, score=0.738 total time=   0.2s\n",
      "[CV 1/5] END learning_rate=0.5, max_depth=20, n_estimators=10;, score=0.787 total time=   0.0s\n",
      "[CV 2/5] END learning_rate=0.5, max_depth=20, n_estimators=10;, score=0.741 total time=   0.0s\n",
      "[CV 3/5] END learning_rate=0.5, max_depth=20, n_estimators=10;, score=0.766 total time=   0.0s\n",
      "[CV 4/5] END learning_rate=0.5, max_depth=20, n_estimators=10;, score=0.720 total time=   0.0s\n",
      "[CV 5/5] END learning_rate=0.5, max_depth=20, n_estimators=10;, score=0.720 total time=   0.0s\n",
      "[CV 1/5] END learning_rate=0.5, max_depth=20, n_estimators=50;, score=0.787 total time=   0.0s\n",
      "[CV 2/5] END learning_rate=0.5, max_depth=20, n_estimators=50;, score=0.731 total time=   0.0s\n",
      "[CV 3/5] END learning_rate=0.5, max_depth=20, n_estimators=50;, score=0.776 total time=   0.0s\n",
      "[CV 4/5] END learning_rate=0.5, max_depth=20, n_estimators=50;, score=0.729 total time=   0.0s\n",
      "[CV 5/5] END learning_rate=0.5, max_depth=20, n_estimators=50;, score=0.720 total time=   0.0s\n",
      "[CV 1/5] END learning_rate=0.5, max_depth=20, n_estimators=100;, score=0.787 total time=   0.1s\n",
      "[CV 2/5] END learning_rate=0.5, max_depth=20, n_estimators=100;, score=0.722 total time=   0.1s\n",
      "[CV 3/5] END learning_rate=0.5, max_depth=20, n_estimators=100;, score=0.776 total time=   0.1s\n",
      "[CV 4/5] END learning_rate=0.5, max_depth=20, n_estimators=100;, score=0.729 total time=   0.1s\n",
      "[CV 5/5] END learning_rate=0.5, max_depth=20, n_estimators=100;, score=0.748 total time=   0.2s\n",
      "[CV 1/5] END learning_rate=0.5, max_depth=20, n_estimators=200;, score=0.769 total time=   0.2s\n",
      "[CV 2/5] END learning_rate=0.5, max_depth=20, n_estimators=200;, score=0.731 total time=   0.2s\n",
      "[CV 3/5] END learning_rate=0.5, max_depth=20, n_estimators=200;, score=0.776 total time=   0.2s\n",
      "[CV 4/5] END learning_rate=0.5, max_depth=20, n_estimators=200;, score=0.720 total time=   0.2s\n",
      "[CV 5/5] END learning_rate=0.5, max_depth=20, n_estimators=200;, score=0.748 total time=   0.3s\n",
      "[CV 1/5] END learning_rate=0.1, max_depth=3, n_estimators=10;, score=0.778 total time=   0.0s\n",
      "[CV 2/5] END learning_rate=0.1, max_depth=3, n_estimators=10;, score=0.731 total time=   0.0s\n",
      "[CV 3/5] END learning_rate=0.1, max_depth=3, n_estimators=10;, score=0.785 total time=   0.0s\n",
      "[CV 4/5] END learning_rate=0.1, max_depth=3, n_estimators=10;, score=0.692 total time=   0.0s\n",
      "[CV 5/5] END learning_rate=0.1, max_depth=3, n_estimators=10;, score=0.729 total time=   0.0s\n",
      "[CV 1/5] END learning_rate=0.1, max_depth=3, n_estimators=50;, score=0.815 total time=   0.0s\n",
      "[CV 2/5] END learning_rate=0.1, max_depth=3, n_estimators=50;, score=0.731 total time=   0.0s\n",
      "[CV 3/5] END learning_rate=0.1, max_depth=3, n_estimators=50;, score=0.776 total time=   0.0s\n",
      "[CV 4/5] END learning_rate=0.1, max_depth=3, n_estimators=50;, score=0.729 total time=   0.0s\n",
      "[CV 5/5] END learning_rate=0.1, max_depth=3, n_estimators=50;, score=0.785 total time=   0.0s\n",
      "[CV 1/5] END learning_rate=0.1, max_depth=3, n_estimators=100;, score=0.815 total time=   0.1s\n",
      "[CV 2/5] END learning_rate=0.1, max_depth=3, n_estimators=100;, score=0.722 total time=   0.1s\n",
      "[CV 3/5] END learning_rate=0.1, max_depth=3, n_estimators=100;, score=0.776 total time=   0.1s\n",
      "[CV 4/5] END learning_rate=0.1, max_depth=3, n_estimators=100;, score=0.720 total time=   0.1s\n",
      "[CV 5/5] END learning_rate=0.1, max_depth=3, n_estimators=100;, score=0.785 total time=   0.1s\n"
     ]
    },
    {
     "name": "stdout",
     "output_type": "stream",
     "text": [
      "[CV 1/5] END learning_rate=0.1, max_depth=3, n_estimators=200;, score=0.778 total time=   0.2s\n",
      "[CV 2/5] END learning_rate=0.1, max_depth=3, n_estimators=200;, score=0.741 total time=   0.2s\n",
      "[CV 3/5] END learning_rate=0.1, max_depth=3, n_estimators=200;, score=0.757 total time=   0.2s\n",
      "[CV 4/5] END learning_rate=0.1, max_depth=3, n_estimators=200;, score=0.720 total time=   0.2s\n",
      "[CV 5/5] END learning_rate=0.1, max_depth=3, n_estimators=200;, score=0.757 total time=   0.3s\n",
      "[CV 1/5] END learning_rate=0.1, max_depth=5, n_estimators=10;, score=0.824 total time=   0.0s\n",
      "[CV 2/5] END learning_rate=0.1, max_depth=5, n_estimators=10;, score=0.778 total time=   0.0s\n",
      "[CV 3/5] END learning_rate=0.1, max_depth=5, n_estimators=10;, score=0.776 total time=   0.0s\n",
      "[CV 4/5] END learning_rate=0.1, max_depth=5, n_estimators=10;, score=0.692 total time=   0.0s\n",
      "[CV 5/5] END learning_rate=0.1, max_depth=5, n_estimators=10;, score=0.710 total time=   0.0s\n",
      "[CV 1/5] END learning_rate=0.1, max_depth=5, n_estimators=50;, score=0.833 total time=   0.0s\n",
      "[CV 2/5] END learning_rate=0.1, max_depth=5, n_estimators=50;, score=0.741 total time=   0.0s\n",
      "[CV 3/5] END learning_rate=0.1, max_depth=5, n_estimators=50;, score=0.785 total time=   0.0s\n",
      "[CV 4/5] END learning_rate=0.1, max_depth=5, n_estimators=50;, score=0.738 total time=   0.0s\n",
      "[CV 5/5] END learning_rate=0.1, max_depth=5, n_estimators=50;, score=0.757 total time=   0.0s\n",
      "[CV 1/5] END learning_rate=0.1, max_depth=5, n_estimators=100;, score=0.769 total time=   0.1s\n",
      "[CV 2/5] END learning_rate=0.1, max_depth=5, n_estimators=100;, score=0.750 total time=   0.1s\n",
      "[CV 3/5] END learning_rate=0.1, max_depth=5, n_estimators=100;, score=0.776 total time=   0.1s\n",
      "[CV 4/5] END learning_rate=0.1, max_depth=5, n_estimators=100;, score=0.720 total time=   0.1s\n",
      "[CV 5/5] END learning_rate=0.1, max_depth=5, n_estimators=100;, score=0.748 total time=   0.1s\n",
      "[CV 1/5] END learning_rate=0.1, max_depth=5, n_estimators=200;, score=0.769 total time=   0.2s\n",
      "[CV 2/5] END learning_rate=0.1, max_depth=5, n_estimators=200;, score=0.759 total time=   0.2s\n",
      "[CV 3/5] END learning_rate=0.1, max_depth=5, n_estimators=200;, score=0.776 total time=   0.2s\n",
      "[CV 4/5] END learning_rate=0.1, max_depth=5, n_estimators=200;, score=0.710 total time=   0.2s\n",
      "[CV 5/5] END learning_rate=0.1, max_depth=5, n_estimators=200;, score=0.729 total time=   0.2s\n",
      "[CV 1/5] END learning_rate=0.1, max_depth=10, n_estimators=10;, score=0.796 total time=   0.0s\n",
      "[CV 2/5] END learning_rate=0.1, max_depth=10, n_estimators=10;, score=0.778 total time=   0.0s\n",
      "[CV 3/5] END learning_rate=0.1, max_depth=10, n_estimators=10;, score=0.738 total time=   0.0s\n",
      "[CV 4/5] END learning_rate=0.1, max_depth=10, n_estimators=10;, score=0.729 total time=   0.0s\n",
      "[CV 5/5] END learning_rate=0.1, max_depth=10, n_estimators=10;, score=0.738 total time=   0.0s\n",
      "[CV 1/5] END learning_rate=0.1, max_depth=10, n_estimators=50;, score=0.778 total time=   0.0s\n",
      "[CV 2/5] END learning_rate=0.1, max_depth=10, n_estimators=50;, score=0.741 total time=   0.0s\n",
      "[CV 3/5] END learning_rate=0.1, max_depth=10, n_estimators=50;, score=0.776 total time=   0.0s\n",
      "[CV 4/5] END learning_rate=0.1, max_depth=10, n_estimators=50;, score=0.748 total time=   0.0s\n",
      "[CV 5/5] END learning_rate=0.1, max_depth=10, n_estimators=50;, score=0.748 total time=   0.0s\n",
      "[CV 1/5] END learning_rate=0.1, max_depth=10, n_estimators=100;, score=0.769 total time=   0.1s\n",
      "[CV 2/5] END learning_rate=0.1, max_depth=10, n_estimators=100;, score=0.731 total time=   0.1s\n",
      "[CV 3/5] END learning_rate=0.1, max_depth=10, n_estimators=100;, score=0.776 total time=   0.1s\n",
      "[CV 4/5] END learning_rate=0.1, max_depth=10, n_estimators=100;, score=0.729 total time=   0.1s\n",
      "[CV 5/5] END learning_rate=0.1, max_depth=10, n_estimators=100;, score=0.766 total time=   0.1s\n",
      "[CV 1/5] END learning_rate=0.1, max_depth=10, n_estimators=200;, score=0.769 total time=   0.3s\n",
      "[CV 2/5] END learning_rate=0.1, max_depth=10, n_estimators=200;, score=0.722 total time=   0.2s\n",
      "[CV 3/5] END learning_rate=0.1, max_depth=10, n_estimators=200;, score=0.766 total time=   0.2s\n",
      "[CV 4/5] END learning_rate=0.1, max_depth=10, n_estimators=200;, score=0.738 total time=   0.2s\n",
      "[CV 5/5] END learning_rate=0.1, max_depth=10, n_estimators=200;, score=0.748 total time=   0.2s\n",
      "[CV 1/5] END learning_rate=0.1, max_depth=20, n_estimators=10;, score=0.787 total time=   0.0s\n",
      "[CV 2/5] END learning_rate=0.1, max_depth=20, n_estimators=10;, score=0.778 total time=   0.0s\n",
      "[CV 3/5] END learning_rate=0.1, max_depth=20, n_estimators=10;, score=0.766 total time=   0.0s\n",
      "[CV 4/5] END learning_rate=0.1, max_depth=20, n_estimators=10;, score=0.720 total time=   0.0s\n",
      "[CV 5/5] END learning_rate=0.1, max_depth=20, n_estimators=10;, score=0.738 total time=   0.0s\n",
      "[CV 1/5] END learning_rate=0.1, max_depth=20, n_estimators=50;, score=0.778 total time=   0.0s\n",
      "[CV 2/5] END learning_rate=0.1, max_depth=20, n_estimators=50;, score=0.731 total time=   0.0s\n",
      "[CV 3/5] END learning_rate=0.1, max_depth=20, n_estimators=50;, score=0.776 total time=   0.0s\n",
      "[CV 4/5] END learning_rate=0.1, max_depth=20, n_estimators=50;, score=0.729 total time=   0.0s\n",
      "[CV 5/5] END learning_rate=0.1, max_depth=20, n_estimators=50;, score=0.757 total time=   0.0s\n",
      "[CV 1/5] END learning_rate=0.1, max_depth=20, n_estimators=100;, score=0.759 total time=   0.1s\n",
      "[CV 2/5] END learning_rate=0.1, max_depth=20, n_estimators=100;, score=0.731 total time=   0.1s\n",
      "[CV 3/5] END learning_rate=0.1, max_depth=20, n_estimators=100;, score=0.748 total time=   0.1s\n",
      "[CV 4/5] END learning_rate=0.1, max_depth=20, n_estimators=100;, score=0.720 total time=   0.1s\n",
      "[CV 5/5] END learning_rate=0.1, max_depth=20, n_estimators=100;, score=0.748 total time=   0.1s\n",
      "[CV 1/5] END learning_rate=0.1, max_depth=20, n_estimators=200;, score=0.787 total time=   0.2s\n",
      "[CV 2/5] END learning_rate=0.1, max_depth=20, n_estimators=200;, score=0.713 total time=   0.2s\n",
      "[CV 3/5] END learning_rate=0.1, max_depth=20, n_estimators=200;, score=0.738 total time=   0.3s\n",
      "[CV 4/5] END learning_rate=0.1, max_depth=20, n_estimators=200;, score=0.720 total time=   0.2s\n",
      "[CV 5/5] END learning_rate=0.1, max_depth=20, n_estimators=200;, score=0.738 total time=   0.3s\n",
      "[CV 1/5] END learning_rate=0.01, max_depth=3, n_estimators=10;, score=0.769 total time=   0.0s\n",
      "[CV 2/5] END learning_rate=0.01, max_depth=3, n_estimators=10;, score=0.731 total time=   0.0s\n",
      "[CV 3/5] END learning_rate=0.01, max_depth=3, n_estimators=10;, score=0.729 total time=   0.0s\n",
      "[CV 4/5] END learning_rate=0.01, max_depth=3, n_estimators=10;, score=0.673 total time=   0.0s\n",
      "[CV 5/5] END learning_rate=0.01, max_depth=3, n_estimators=10;, score=0.720 total time=   0.0s\n",
      "[CV 1/5] END learning_rate=0.01, max_depth=3, n_estimators=50;, score=0.769 total time=   0.0s\n",
      "[CV 2/5] END learning_rate=0.01, max_depth=3, n_estimators=50;, score=0.722 total time=   0.0s\n",
      "[CV 3/5] END learning_rate=0.01, max_depth=3, n_estimators=50;, score=0.794 total time=   0.0s\n",
      "[CV 4/5] END learning_rate=0.01, max_depth=3, n_estimators=50;, score=0.682 total time=   0.0s\n",
      "[CV 5/5] END learning_rate=0.01, max_depth=3, n_estimators=50;, score=0.720 total time=   0.0s\n",
      "[CV 1/5] END learning_rate=0.01, max_depth=3, n_estimators=100;, score=0.769 total time=   0.1s\n",
      "[CV 2/5] END learning_rate=0.01, max_depth=3, n_estimators=100;, score=0.731 total time=   0.1s\n",
      "[CV 3/5] END learning_rate=0.01, max_depth=3, n_estimators=100;, score=0.794 total time=   0.1s\n",
      "[CV 4/5] END learning_rate=0.01, max_depth=3, n_estimators=100;, score=0.692 total time=   0.1s\n",
      "[CV 5/5] END learning_rate=0.01, max_depth=3, n_estimators=100;, score=0.738 total time=   0.1s\n",
      "[CV 1/5] END learning_rate=0.01, max_depth=3, n_estimators=200;, score=0.787 total time=   0.2s\n",
      "[CV 2/5] END learning_rate=0.01, max_depth=3, n_estimators=200;, score=0.750 total time=   0.2s\n",
      "[CV 3/5] END learning_rate=0.01, max_depth=3, n_estimators=200;, score=0.813 total time=   0.2s\n",
      "[CV 4/5] END learning_rate=0.01, max_depth=3, n_estimators=200;, score=0.682 total time=   0.2s\n",
      "[CV 5/5] END learning_rate=0.01, max_depth=3, n_estimators=200;, score=0.776 total time=   0.2s\n",
      "[CV 1/5] END learning_rate=0.01, max_depth=5, n_estimators=10;, score=0.787 total time=   0.0s\n",
      "[CV 2/5] END learning_rate=0.01, max_depth=5, n_estimators=10;, score=0.759 total time=   0.0s\n",
      "[CV 3/5] END learning_rate=0.01, max_depth=5, n_estimators=10;, score=0.757 total time=   0.0s\n",
      "[CV 4/5] END learning_rate=0.01, max_depth=5, n_estimators=10;, score=0.673 total time=   0.0s\n",
      "[CV 5/5] END learning_rate=0.01, max_depth=5, n_estimators=10;, score=0.701 total time=   0.0s\n"
     ]
    },
    {
     "name": "stdout",
     "output_type": "stream",
     "text": [
      "[CV 1/5] END learning_rate=0.01, max_depth=5, n_estimators=50;, score=0.824 total time=   0.0s\n",
      "[CV 2/5] END learning_rate=0.01, max_depth=5, n_estimators=50;, score=0.769 total time=   0.0s\n",
      "[CV 3/5] END learning_rate=0.01, max_depth=5, n_estimators=50;, score=0.776 total time=   0.0s\n",
      "[CV 4/5] END learning_rate=0.01, max_depth=5, n_estimators=50;, score=0.664 total time=   0.0s\n",
      "[CV 5/5] END learning_rate=0.01, max_depth=5, n_estimators=50;, score=0.692 total time=   0.0s\n",
      "[CV 1/5] END learning_rate=0.01, max_depth=5, n_estimators=100;, score=0.815 total time=   0.1s\n",
      "[CV 2/5] END learning_rate=0.01, max_depth=5, n_estimators=100;, score=0.787 total time=   0.1s\n",
      "[CV 3/5] END learning_rate=0.01, max_depth=5, n_estimators=100;, score=0.785 total time=   0.1s\n",
      "[CV 4/5] END learning_rate=0.01, max_depth=5, n_estimators=100;, score=0.673 total time=   0.1s\n",
      "[CV 5/5] END learning_rate=0.01, max_depth=5, n_estimators=100;, score=0.701 total time=   0.1s\n",
      "[CV 1/5] END learning_rate=0.01, max_depth=5, n_estimators=200;, score=0.815 total time=   0.3s\n",
      "[CV 2/5] END learning_rate=0.01, max_depth=5, n_estimators=200;, score=0.769 total time=   0.2s\n",
      "[CV 3/5] END learning_rate=0.01, max_depth=5, n_estimators=200;, score=0.766 total time=   0.2s\n",
      "[CV 4/5] END learning_rate=0.01, max_depth=5, n_estimators=200;, score=0.710 total time=   0.2s\n",
      "[CV 5/5] END learning_rate=0.01, max_depth=5, n_estimators=200;, score=0.766 total time=   0.2s\n",
      "[CV 1/5] END learning_rate=0.01, max_depth=10, n_estimators=10;, score=0.796 total time=   0.0s\n",
      "[CV 2/5] END learning_rate=0.01, max_depth=10, n_estimators=10;, score=0.750 total time=   0.0s\n",
      "[CV 3/5] END learning_rate=0.01, max_depth=10, n_estimators=10;, score=0.776 total time=   0.0s\n",
      "[CV 4/5] END learning_rate=0.01, max_depth=10, n_estimators=10;, score=0.720 total time=   0.0s\n",
      "[CV 5/5] END learning_rate=0.01, max_depth=10, n_estimators=10;, score=0.692 total time=   0.0s\n",
      "[CV 1/5] END learning_rate=0.01, max_depth=10, n_estimators=50;, score=0.806 total time=   0.0s\n",
      "[CV 2/5] END learning_rate=0.01, max_depth=10, n_estimators=50;, score=0.778 total time=   0.0s\n",
      "[CV 3/5] END learning_rate=0.01, max_depth=10, n_estimators=50;, score=0.729 total time=   0.0s\n",
      "[CV 4/5] END learning_rate=0.01, max_depth=10, n_estimators=50;, score=0.692 total time=   0.0s\n",
      "[CV 5/5] END learning_rate=0.01, max_depth=10, n_estimators=50;, score=0.701 total time=   0.0s\n",
      "[CV 1/5] END learning_rate=0.01, max_depth=10, n_estimators=100;, score=0.787 total time=   0.1s\n",
      "[CV 2/5] END learning_rate=0.01, max_depth=10, n_estimators=100;, score=0.769 total time=   0.1s\n",
      "[CV 3/5] END learning_rate=0.01, max_depth=10, n_estimators=100;, score=0.757 total time=   0.1s\n",
      "[CV 4/5] END learning_rate=0.01, max_depth=10, n_estimators=100;, score=0.673 total time=   0.1s\n",
      "[CV 5/5] END learning_rate=0.01, max_depth=10, n_estimators=100;, score=0.701 total time=   0.1s\n",
      "[CV 1/5] END learning_rate=0.01, max_depth=10, n_estimators=200;, score=0.787 total time=   0.3s\n",
      "[CV 2/5] END learning_rate=0.01, max_depth=10, n_estimators=200;, score=0.778 total time=   0.3s\n",
      "[CV 3/5] END learning_rate=0.01, max_depth=10, n_estimators=200;, score=0.776 total time=   0.3s\n",
      "[CV 4/5] END learning_rate=0.01, max_depth=10, n_estimators=200;, score=0.701 total time=   0.4s\n",
      "[CV 5/5] END learning_rate=0.01, max_depth=10, n_estimators=200;, score=0.729 total time=   0.4s\n",
      "[CV 1/5] END learning_rate=0.01, max_depth=20, n_estimators=10;, score=0.796 total time=   0.0s\n",
      "[CV 2/5] END learning_rate=0.01, max_depth=20, n_estimators=10;, score=0.750 total time=   0.0s\n",
      "[CV 3/5] END learning_rate=0.01, max_depth=20, n_estimators=10;, score=0.776 total time=   0.0s\n",
      "[CV 4/5] END learning_rate=0.01, max_depth=20, n_estimators=10;, score=0.738 total time=   0.0s\n",
      "[CV 5/5] END learning_rate=0.01, max_depth=20, n_estimators=10;, score=0.692 total time=   0.0s\n",
      "[CV 1/5] END learning_rate=0.01, max_depth=20, n_estimators=50;, score=0.806 total time=   0.0s\n",
      "[CV 2/5] END learning_rate=0.01, max_depth=20, n_estimators=50;, score=0.787 total time=   0.0s\n",
      "[CV 3/5] END learning_rate=0.01, max_depth=20, n_estimators=50;, score=0.729 total time=   0.1s\n",
      "[CV 4/5] END learning_rate=0.01, max_depth=20, n_estimators=50;, score=0.692 total time=   0.1s\n",
      "[CV 5/5] END learning_rate=0.01, max_depth=20, n_estimators=50;, score=0.701 total time=   0.1s\n",
      "[CV 1/5] END learning_rate=0.01, max_depth=20, n_estimators=100;, score=0.796 total time=   0.2s\n",
      "[CV 2/5] END learning_rate=0.01, max_depth=20, n_estimators=100;, score=0.778 total time=   0.2s\n",
      "[CV 3/5] END learning_rate=0.01, max_depth=20, n_estimators=100;, score=0.766 total time=   0.1s\n",
      "[CV 4/5] END learning_rate=0.01, max_depth=20, n_estimators=100;, score=0.673 total time=   0.2s\n",
      "[CV 5/5] END learning_rate=0.01, max_depth=20, n_estimators=100;, score=0.692 total time=   0.1s\n",
      "[CV 1/5] END learning_rate=0.01, max_depth=20, n_estimators=200;, score=0.796 total time=   0.4s\n",
      "[CV 2/5] END learning_rate=0.01, max_depth=20, n_estimators=200;, score=0.769 total time=   0.4s\n",
      "[CV 3/5] END learning_rate=0.01, max_depth=20, n_estimators=200;, score=0.785 total time=   0.3s\n",
      "[CV 4/5] END learning_rate=0.01, max_depth=20, n_estimators=200;, score=0.692 total time=   0.4s\n",
      "[CV 5/5] END learning_rate=0.01, max_depth=20, n_estimators=200;, score=0.748 total time=   0.5s\n",
      "[CV 1/5] END learning_rate=0.001, max_depth=3, n_estimators=10;, score=0.769 total time=   0.0s\n",
      "[CV 2/5] END learning_rate=0.001, max_depth=3, n_estimators=10;, score=0.731 total time=   0.0s\n",
      "[CV 3/5] END learning_rate=0.001, max_depth=3, n_estimators=10;, score=0.710 total time=   0.0s\n",
      "[CV 4/5] END learning_rate=0.001, max_depth=3, n_estimators=10;, score=0.720 total time=   0.0s\n",
      "[CV 5/5] END learning_rate=0.001, max_depth=3, n_estimators=10;, score=0.720 total time=   0.0s\n",
      "[CV 1/5] END learning_rate=0.001, max_depth=3, n_estimators=50;, score=0.769 total time=   0.0s\n",
      "[CV 2/5] END learning_rate=0.001, max_depth=3, n_estimators=50;, score=0.731 total time=   0.0s\n",
      "[CV 3/5] END learning_rate=0.001, max_depth=3, n_estimators=50;, score=0.729 total time=   0.0s\n",
      "[CV 4/5] END learning_rate=0.001, max_depth=3, n_estimators=50;, score=0.720 total time=   0.0s\n",
      "[CV 5/5] END learning_rate=0.001, max_depth=3, n_estimators=50;, score=0.720 total time=   0.0s\n",
      "[CV 1/5] END learning_rate=0.001, max_depth=3, n_estimators=100;, score=0.769 total time=   0.1s\n",
      "[CV 2/5] END learning_rate=0.001, max_depth=3, n_estimators=100;, score=0.731 total time=   0.1s\n",
      "[CV 3/5] END learning_rate=0.001, max_depth=3, n_estimators=100;, score=0.729 total time=   0.1s\n",
      "[CV 4/5] END learning_rate=0.001, max_depth=3, n_estimators=100;, score=0.673 total time=   0.1s\n",
      "[CV 5/5] END learning_rate=0.001, max_depth=3, n_estimators=100;, score=0.720 total time=   0.1s\n",
      "[CV 1/5] END learning_rate=0.001, max_depth=3, n_estimators=200;, score=0.769 total time=   0.2s\n",
      "[CV 2/5] END learning_rate=0.001, max_depth=3, n_estimators=200;, score=0.722 total time=   0.2s\n",
      "[CV 3/5] END learning_rate=0.001, max_depth=3, n_estimators=200;, score=0.738 total time=   0.2s\n",
      "[CV 4/5] END learning_rate=0.001, max_depth=3, n_estimators=200;, score=0.673 total time=   0.2s\n",
      "[CV 5/5] END learning_rate=0.001, max_depth=3, n_estimators=200;, score=0.720 total time=   0.2s\n",
      "[CV 1/5] END learning_rate=0.001, max_depth=5, n_estimators=10;, score=0.787 total time=   0.0s\n",
      "[CV 2/5] END learning_rate=0.001, max_depth=5, n_estimators=10;, score=0.759 total time=   0.0s\n",
      "[CV 3/5] END learning_rate=0.001, max_depth=5, n_estimators=10;, score=0.766 total time=   0.0s\n",
      "[CV 4/5] END learning_rate=0.001, max_depth=5, n_estimators=10;, score=0.729 total time=   0.0s\n",
      "[CV 5/5] END learning_rate=0.001, max_depth=5, n_estimators=10;, score=0.701 total time=   0.0s\n",
      "[CV 1/5] END learning_rate=0.001, max_depth=5, n_estimators=50;, score=0.787 total time=   0.0s\n",
      "[CV 2/5] END learning_rate=0.001, max_depth=5, n_estimators=50;, score=0.759 total time=   0.0s\n",
      "[CV 3/5] END learning_rate=0.001, max_depth=5, n_estimators=50;, score=0.766 total time=   0.0s\n",
      "[CV 4/5] END learning_rate=0.001, max_depth=5, n_estimators=50;, score=0.710 total time=   0.0s\n",
      "[CV 5/5] END learning_rate=0.001, max_depth=5, n_estimators=50;, score=0.701 total time=   0.0s\n",
      "[CV 1/5] END learning_rate=0.001, max_depth=5, n_estimators=100;, score=0.787 total time=   0.1s\n"
     ]
    },
    {
     "name": "stdout",
     "output_type": "stream",
     "text": [
      "[CV 2/5] END learning_rate=0.001, max_depth=5, n_estimators=100;, score=0.759 total time=   0.1s\n",
      "[CV 3/5] END learning_rate=0.001, max_depth=5, n_estimators=100;, score=0.748 total time=   0.1s\n",
      "[CV 4/5] END learning_rate=0.001, max_depth=5, n_estimators=100;, score=0.673 total time=   0.1s\n",
      "[CV 5/5] END learning_rate=0.001, max_depth=5, n_estimators=100;, score=0.701 total time=   0.1s\n",
      "[CV 1/5] END learning_rate=0.001, max_depth=5, n_estimators=200;, score=0.833 total time=   0.3s\n",
      "[CV 2/5] END learning_rate=0.001, max_depth=5, n_estimators=200;, score=0.759 total time=   0.3s\n",
      "[CV 3/5] END learning_rate=0.001, max_depth=5, n_estimators=200;, score=0.757 total time=   0.3s\n",
      "[CV 4/5] END learning_rate=0.001, max_depth=5, n_estimators=200;, score=0.673 total time=   0.4s\n",
      "[CV 5/5] END learning_rate=0.001, max_depth=5, n_estimators=200;, score=0.701 total time=   0.3s\n",
      "[CV 1/5] END learning_rate=0.001, max_depth=10, n_estimators=10;, score=0.787 total time=   0.0s\n",
      "[CV 2/5] END learning_rate=0.001, max_depth=10, n_estimators=10;, score=0.750 total time=   0.0s\n",
      "[CV 3/5] END learning_rate=0.001, max_depth=10, n_estimators=10;, score=0.757 total time=   0.0s\n",
      "[CV 4/5] END learning_rate=0.001, max_depth=10, n_estimators=10;, score=0.729 total time=   0.0s\n",
      "[CV 5/5] END learning_rate=0.001, max_depth=10, n_estimators=10;, score=0.692 total time=   0.0s\n",
      "[CV 1/5] END learning_rate=0.001, max_depth=10, n_estimators=50;, score=0.796 total time=   0.1s\n",
      "[CV 2/5] END learning_rate=0.001, max_depth=10, n_estimators=50;, score=0.750 total time=   0.0s\n",
      "[CV 3/5] END learning_rate=0.001, max_depth=10, n_estimators=50;, score=0.757 total time=   0.0s\n",
      "[CV 4/5] END learning_rate=0.001, max_depth=10, n_estimators=50;, score=0.729 total time=   0.0s\n",
      "[CV 5/5] END learning_rate=0.001, max_depth=10, n_estimators=50;, score=0.710 total time=   0.0s\n",
      "[CV 1/5] END learning_rate=0.001, max_depth=10, n_estimators=100;, score=0.796 total time=   0.1s\n",
      "[CV 2/5] END learning_rate=0.001, max_depth=10, n_estimators=100;, score=0.750 total time=   0.1s\n",
      "[CV 3/5] END learning_rate=0.001, max_depth=10, n_estimators=100;, score=0.766 total time=   0.1s\n",
      "[CV 4/5] END learning_rate=0.001, max_depth=10, n_estimators=100;, score=0.738 total time=   0.1s\n",
      "[CV 5/5] END learning_rate=0.001, max_depth=10, n_estimators=100;, score=0.692 total time=   0.1s\n",
      "[CV 1/5] END learning_rate=0.001, max_depth=10, n_estimators=200;, score=0.787 total time=   0.3s\n",
      "[CV 2/5] END learning_rate=0.001, max_depth=10, n_estimators=200;, score=0.759 total time=   0.3s\n",
      "[CV 3/5] END learning_rate=0.001, max_depth=10, n_estimators=200;, score=0.748 total time=   0.4s\n",
      "[CV 4/5] END learning_rate=0.001, max_depth=10, n_estimators=200;, score=0.701 total time=   0.3s\n",
      "[CV 5/5] END learning_rate=0.001, max_depth=10, n_estimators=200;, score=0.710 total time=   0.3s\n",
      "[CV 1/5] END learning_rate=0.001, max_depth=20, n_estimators=10;, score=0.787 total time=   0.0s\n",
      "[CV 2/5] END learning_rate=0.001, max_depth=20, n_estimators=10;, score=0.750 total time=   0.0s\n",
      "[CV 3/5] END learning_rate=0.001, max_depth=20, n_estimators=10;, score=0.757 total time=   0.0s\n",
      "[CV 4/5] END learning_rate=0.001, max_depth=20, n_estimators=10;, score=0.738 total time=   0.0s\n",
      "[CV 5/5] END learning_rate=0.001, max_depth=20, n_estimators=10;, score=0.692 total time=   0.0s\n",
      "[CV 1/5] END learning_rate=0.001, max_depth=20, n_estimators=50;, score=0.796 total time=   0.0s\n",
      "[CV 2/5] END learning_rate=0.001, max_depth=20, n_estimators=50;, score=0.750 total time=   0.0s\n",
      "[CV 3/5] END learning_rate=0.001, max_depth=20, n_estimators=50;, score=0.757 total time=   0.0s\n",
      "[CV 4/5] END learning_rate=0.001, max_depth=20, n_estimators=50;, score=0.738 total time=   0.0s\n",
      "[CV 5/5] END learning_rate=0.001, max_depth=20, n_estimators=50;, score=0.710 total time=   0.0s\n",
      "[CV 1/5] END learning_rate=0.001, max_depth=20, n_estimators=100;, score=0.796 total time=   0.1s\n",
      "[CV 2/5] END learning_rate=0.001, max_depth=20, n_estimators=100;, score=0.750 total time=   0.1s\n",
      "[CV 3/5] END learning_rate=0.001, max_depth=20, n_estimators=100;, score=0.766 total time=   0.1s\n",
      "[CV 4/5] END learning_rate=0.001, max_depth=20, n_estimators=100;, score=0.729 total time=   0.1s\n",
      "[CV 5/5] END learning_rate=0.001, max_depth=20, n_estimators=100;, score=0.692 total time=   0.1s\n",
      "[CV 1/5] END learning_rate=0.001, max_depth=20, n_estimators=200;, score=0.787 total time=   0.3s\n",
      "[CV 2/5] END learning_rate=0.001, max_depth=20, n_estimators=200;, score=0.759 total time=   0.3s\n",
      "[CV 3/5] END learning_rate=0.001, max_depth=20, n_estimators=200;, score=0.748 total time=   0.3s\n",
      "[CV 4/5] END learning_rate=0.001, max_depth=20, n_estimators=200;, score=0.701 total time=   0.4s\n",
      "[CV 5/5] END learning_rate=0.001, max_depth=20, n_estimators=200;, score=0.710 total time=   0.3s\n"
     ]
    },
    {
     "data": {
      "text/plain": [
       "GridSearchCV(estimator=XGBClassifier(base_score=None, booster=None,\n",
       "                                     callbacks=None, colsample_bylevel=None,\n",
       "                                     colsample_bynode=None,\n",
       "                                     colsample_bytree=None,\n",
       "                                     early_stopping_rounds=None,\n",
       "                                     enable_categorical=False, eval_metric=None,\n",
       "                                     gamma=None, gpu_id=None, grow_policy=None,\n",
       "                                     importance_type=None,\n",
       "                                     interaction_constraints=None,\n",
       "                                     learning_rate=None, max_bin=None,\n",
       "                                     max_cat_to_...,\n",
       "                                     max_delta_step=None, max_depth=None,\n",
       "                                     max_leaves=None, min_child_weight=None,\n",
       "                                     missing=nan, monotone_constraints=None,\n",
       "                                     n_estimators=100, n_jobs=None,\n",
       "                                     num_parallel_tree=None, predictor=None,\n",
       "                                     random_state=None, reg_alpha=None,\n",
       "                                     reg_lambda=None, ...),\n",
       "             param_grid={'learning_rate': [1, 0.5, 0.1, 0.01, 0.001],\n",
       "                         'max_depth': [3, 5, 10, 20],\n",
       "                         'n_estimators': [10, 50, 100, 200]},\n",
       "             verbose=3)"
      ]
     },
     "execution_count": 26,
     "metadata": {},
     "output_type": "execute_result"
    }
   ],
   "source": [
    "grid.fit(train_x,train_y)"
   ]
  },
  {
   "cell_type": "code",
   "execution_count": 27,
   "metadata": {},
   "outputs": [
    {
     "data": {
      "text/plain": [
       "{'learning_rate': 0.1, 'max_depth': 5, 'n_estimators': 50}"
      ]
     },
     "execution_count": 27,
     "metadata": {},
     "output_type": "execute_result"
    }
   ],
   "source": [
    "grid.best_params_"
   ]
  },
  {
   "cell_type": "code",
   "execution_count": 34,
   "metadata": {},
   "outputs": [
    {
     "data": {
      "text/plain": [
       "XGBClassifier(base_score=0.5, booster='gbtree', callbacks=None,\n",
       "              colsample_bylevel=1, colsample_bynode=1, colsample_bytree=1,\n",
       "              early_stopping_rounds=None, enable_categorical=False,\n",
       "              eval_metric=None, gamma=0, gpu_id=-1, grow_policy='depthwise',\n",
       "              importance_type=None, interaction_constraints='',\n",
       "              learning_rate=0.1, max_bin=256, max_cat_to_onehot=4,\n",
       "              max_delta_step=0, max_depth=5, max_leaves=0, min_child_weight=1,\n",
       "              missing=nan, monotone_constraints='()', n_estimators=50, n_jobs=0,\n",
       "              num_parallel_tree=1, predictor='auto', random_state=0,\n",
       "              reg_alpha=0, reg_lambda=1, ...)"
      ]
     },
     "execution_count": 34,
     "metadata": {},
     "output_type": "execute_result"
    }
   ],
   "source": [
    "new_model=XGBClassifier(learning_rate=0.1,max_depth=5,n_estimators=50)\n",
    "new_model.fit(train_x,train_y)"
   ]
  },
  {
   "cell_type": "code",
   "execution_count": 35,
   "metadata": {},
   "outputs": [
    {
     "data": {
      "text/plain": [
       "0.7445887445887446"
      ]
     },
     "execution_count": 35,
     "metadata": {},
     "output_type": "execute_result"
    }
   ],
   "source": [
    "# Checking initial test accuracy\n",
    "y_pred_new = new_model.predict(test_x)\n",
    "predictions_new = [round(value) for  value in y_pred_new]\n",
    "accuracy_new = accuracy_score(test_y,predictions_new)\n",
    "accuracy_new"
   ]
  },
  {
   "cell_type": "code",
   "execution_count": 36,
   "metadata": {},
   "outputs": [],
   "source": [
    "# Save the model"
   ]
  },
  {
   "cell_type": "code",
   "execution_count": 37,
   "metadata": {},
   "outputs": [],
   "source": [
    "filename = 'xgboost_model1.pickle'\n",
    "pickle.dump(new_model,open(filename,'wb'))\n",
    "\n",
    "loaded_model = pickle.load(open(filename,'rb'))"
   ]
  },
  {
   "cell_type": "code",
   "execution_count": 38,
   "metadata": {},
   "outputs": [],
   "source": [
    "filename_scaler = 'scaler_model1.pickle'\n",
    "pickle.dump(scaler,open(filename_scaler,'wb'))\n",
    "\n",
    "scaler_model = pickle.load(open(filename_scaler,'rb'))"
   ]
  },
  {
   "cell_type": "code",
   "execution_count": 39,
   "metadata": {},
   "outputs": [
    {
     "name": "stdout",
     "output_type": "stream",
     "text": [
      "This data belongs to class : [1]\n"
     ]
    },
    {
     "name": "stderr",
     "output_type": "stream",
     "text": [
      "C:\\Users\\jatpradh\\Anaconda3\\lib\\site-packages\\sklearn\\base.py:450: UserWarning: X does not have valid feature names, but StandardScaler was fitted with feature names\n",
      "  warnings.warn(\n"
     ]
    }
   ],
   "source": [
    "# Do a random prediction\n",
    "d = scaler_model.transform([[6,148,72,35,80,33.6,0.627,50]])\n",
    "pred=loaded_model.predict(d)\n",
    "print('This data belongs to class :',pred)"
   ]
  },
  {
   "cell_type": "code",
   "execution_count": null,
   "metadata": {},
   "outputs": [],
   "source": []
  },
  {
   "cell_type": "code",
   "execution_count": null,
   "metadata": {},
   "outputs": [],
   "source": []
  }
 ],
 "metadata": {
  "kernelspec": {
   "display_name": "Python 3 (ipykernel)",
   "language": "python",
   "name": "python3"
  },
  "language_info": {
   "codemirror_mode": {
    "name": "ipython",
    "version": 3
   },
   "file_extension": ".py",
   "mimetype": "text/x-python",
   "name": "python",
   "nbconvert_exporter": "python",
   "pygments_lexer": "ipython3",
   "version": "3.9.12"
  }
 },
 "nbformat": 4,
 "nbformat_minor": 4
}
